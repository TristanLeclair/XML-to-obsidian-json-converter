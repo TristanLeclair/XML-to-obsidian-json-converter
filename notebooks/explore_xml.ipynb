{
 "cells": [
  {
   "cell_type": "code",
   "execution_count": 1,
   "id": "2f73ef2e-cf24-4fe4-b117-c3d0613abc6e",
   "metadata": {},
   "outputs": [],
   "source": [
    "import xmltodict\n",
    "import json\n",
    "from enum import Enum"
   ]
  },
  {
   "cell_type": "code",
   "execution_count": 2,
   "id": "63a39834-d66c-4a6c-b837-b16a4c090beb",
   "metadata": {},
   "outputs": [],
   "source": [
    "class Size(Enum):\n",
    "    L = \"Large\"\n",
    "    M = \"Medium\"\n",
    "    S = \"Small\"\n",
    "    G = \"Gargantuan\"\n",
    "    T = \"Tiny\""
   ]
  },
  {
   "cell_type": "code",
   "execution_count": 3,
   "id": "761e17fe-0d90-441d-b57b-7b3d672b951f",
   "metadata": {},
   "outputs": [],
   "source": [
    "class Stat(Enum):\n",
    "    Con = \"consitution\"\n",
    "    Int = \"intelligence\"\n",
    "    Str = \"strength\"\n",
    "    Dex = \"dexterity\"\n",
    "    Wis = \"wisdom\"\n",
    "    Cha = \"charisma\""
   ]
  },
  {
   "cell_type": "code",
   "execution_count": 4,
   "id": "7c306aa5-1c53-41b1-983f-f1831d699ada",
   "metadata": {},
   "outputs": [],
   "source": [
    "with open('../data/191328_Complete.xml', 'r') as file:\n",
    "    xml = file.read()\n",
    "json_data = xmltodict.parse(xml)"
   ]
  },
  {
   "cell_type": "code",
   "execution_count": 5,
   "id": "21316243-07fc-4bac-8379-9c962f35dc35",
   "metadata": {},
   "outputs": [],
   "source": [
    "json_copy = json_data.copy()"
   ]
  },
  {
   "cell_type": "code",
   "execution_count": 6,
   "id": "c66cb3f8-e9fc-4e4b-8b92-40fdfcfe587c",
   "metadata": {},
   "outputs": [],
   "source": [
    "monsters = json_copy['compendium']['monster']"
   ]
  },
  {
   "cell_type": "code",
   "execution_count": 7,
   "id": "329fb6b6-6a8d-4596-9051-b5fd7cd1d837",
   "metadata": {},
   "outputs": [],
   "source": [
    "def getMonsterWithName(name, copy=True):\n",
    "    monster = [monster for monster in monsters if monster['name'] == name][0]\n",
    "    if copy:\n",
    "        monster = monster.copy()\n",
    "    return monster"
   ]
  },
  {
   "cell_type": "code",
   "execution_count": 8,
   "id": "24316d12-85ea-4bc4-943c-1460fd40c22a",
   "metadata": {},
   "outputs": [],
   "source": [
    "aboleth = getMonsterWithName('Aboleth')"
   ]
  },
  {
   "cell_type": "code",
   "execution_count": 9,
   "id": "8226df76-93ef-46cd-b646-2d29fb5ae30e",
   "metadata": {},
   "outputs": [
    {
     "data": {
      "text/plain": [
       "{'name': 'Androsphinx',\n",
       " 'size': 'L',\n",
       " 'type': 'monstrosity',\n",
       " 'alignment': 'lawful neutral',\n",
       " 'ac': '17 (natural armor)',\n",
       " 'hp': '199 (19d10+95)',\n",
       " 'speed': '40 ft., fly 60 ft.',\n",
       " 'str': '22',\n",
       " 'dex': '10',\n",
       " 'con': '20',\n",
       " 'int': '16',\n",
       " 'wis': '18',\n",
       " 'cha': '23',\n",
       " 'save': 'Dex +6, Con +11, Int +9, Wis +10',\n",
       " 'skill': 'Arcana +9, Perception +10, Religion +15',\n",
       " 'resist': None,\n",
       " 'vulnerable': None,\n",
       " 'immune': 'psychic; bludgeoning, piercing, and slashing from nonmagical attacks',\n",
       " 'conditionImmune': 'charmed, frightened',\n",
       " 'senses': 'truesight 120 ft.',\n",
       " 'passive': '20',\n",
       " 'languages': 'Common, Sphinx',\n",
       " 'cr': '17',\n",
       " 'trait': [{'name': 'Source', 'text': 'Monster Manual p. 281'},\n",
       "  {'name': 'Inscrutable',\n",
       "   'text': \"The sphinx is immune to any effect that would sense its emotions or read its thoughts, as well as any divination spell that it refuses. Wisdom (Insight) checks made to ascertain the sphinx's intentions or sincerity have disadvantage.\"},\n",
       "  {'name': 'Magic Weapons',\n",
       "   'text': \"The sphinx's weapon attacks are magical.\"},\n",
       "  {'name': 'Spellcasting',\n",
       "   'text': ['The sphinx is a 12th-level spellcaster. Its spellcasting ability is Wisdom (spell save DC 18, +10 to hit with spell attacks). It requires no material components to cast its spells. The sphinx has the following cleric spells prepared:',\n",
       "    None,\n",
       "    'Cantrips (at will): sacred flame, spare the dying, thaumaturgy',\n",
       "    None,\n",
       "    '• 1st level (4 slots): command, detect evil and good, detect magic',\n",
       "    None,\n",
       "    '• 2nd level (3 slots): lesser restoration, zone of truth',\n",
       "    None,\n",
       "    '• 3rd level (3 slots): dispel magic, tongues',\n",
       "    None,\n",
       "    '• 4th level (3 slots): banishment, freedom of movement',\n",
       "    None,\n",
       "    '• 5th level (2 slots): flame strike, greater restoration',\n",
       "    None,\n",
       "    \"• 6th level (1 slot): heroes' feast\"]}],\n",
       " 'action': [{'name': 'Multiattack',\n",
       "   'text': 'The sphinx makes two claw attacks.'},\n",
       "  {'name': 'Claw',\n",
       "   'text': 'Melee Weapon Attack: +12 to hit, reach 5 ft., one target. Hit: 17 (2d10+6) slashing damage.',\n",
       "   'attack': 'Claw|12|2d10+6'},\n",
       "  {'name': 'Roar (3/Day)',\n",
       "   'text': ['The sphinx emits a magical roar. Each time it roars before finishing a long rest, the roar is louder and the effect is different, as detailed below. Each creature within 500 feet of the sphinx and able to hear the roar must make a saving throw.',\n",
       "    None,\n",
       "    'First Roar: Each creature that fails a DC 18 Wisdom saving throw is frightened for 1 minute. A frightened creature can repeat the saving throw at the end of each of its turns, ending the effect on itself on a success.',\n",
       "    None,\n",
       "    'Second Roar: Each creature that fails a DC 18 Wisdom saving throw is deafened and frightened for 1 minute. A frightened creature is paralyzed and can repeat the saving throw at the end of each of its turns, ending the effect on itself on a success.',\n",
       "    None,\n",
       "    \"Third Roar: Each creature makes a DC 18 Constitution saving throw. On a failed save, a creature takes 44 (8d10) thunder damage and is knocked prone. On a successful save, the creature takes half as much damage and isn't knocked prone.\"]}],\n",
       " 'legendary': [{'name': 'Legendary Actions (3/Turn)',\n",
       "   'text': \"The androsphinx can take 3 legendary actions, choosing from the options below. Only one legendary action option can be used at a time, and only at the end of another creature's turn. The androsphinx regains spent legendary actions at the start of his turn.\"},\n",
       "  {'name': 'Claw Attack', 'text': 'The sphinx makes one claw attack.'},\n",
       "  {'name': 'Teleport (Costs 2 Actions)',\n",
       "   'text': 'The sphinx magically teleports, along with any equipment it is wearing or carrying, up to 120 feet to an unoccupied space it can see.'},\n",
       "  {'name': 'Cast a Spell (Costs 3 Actions)',\n",
       "   'text': 'The sphinx casts a spell from its list of prepared spells, using a spell slot as normal.'}],\n",
       " 'spells': \"sacred flame, spare the dying, thaumaturgy, command, detect evil and good, detect magic, lesser restoration, zone of truth, dispel magic, tongues, banishment, freedom of movement, flame strike, greater restoration, heroes' feast\",\n",
       " 'slots': '4, 3, 3, 3, 2, 1',\n",
       " 'environment': 'desert'}"
      ]
     },
     "execution_count": 9,
     "metadata": {},
     "output_type": "execute_result"
    }
   ],
   "source": [
    "draco = getMonsterWithName('Androsphinx')\n",
    "draco"
   ]
  },
  {
   "cell_type": "markdown",
   "id": "94cbad3f-1e00-41e4-aa65-f5e6e2a8ad70",
   "metadata": {},
   "source": [
    "# Initial Aboleth"
   ]
  },
  {
   "cell_type": "code",
   "execution_count": 10,
   "id": "7d723551-bd6d-401e-a013-b871caf026a9",
   "metadata": {},
   "outputs": [
    {
     "data": {
      "text/plain": [
       "{'name': 'Aboleth',\n",
       " 'size': 'L',\n",
       " 'type': 'aberration',\n",
       " 'alignment': 'lawful evil',\n",
       " 'ac': '17 (natural armor)',\n",
       " 'hp': '135 (18d10+36)',\n",
       " 'speed': '10 ft., swim 40 ft.',\n",
       " 'str': '21',\n",
       " 'dex': '9',\n",
       " 'con': '15',\n",
       " 'int': '18',\n",
       " 'wis': '15',\n",
       " 'cha': '18',\n",
       " 'save': 'Con +6, Int +8, Wis +6',\n",
       " 'skill': 'History +12, Perception +10',\n",
       " 'resist': None,\n",
       " 'vulnerable': None,\n",
       " 'immune': None,\n",
       " 'conditionImmune': None,\n",
       " 'senses': 'darkvision 120 ft.',\n",
       " 'passive': '20',\n",
       " 'languages': 'Deep Speech, telepathy 120 ft.',\n",
       " 'cr': '10',\n",
       " 'trait': [{'name': 'Source', 'text': 'Monster Manual p. 13'},\n",
       "  {'name': 'Amphibious', 'text': 'The aboleth can breathe air and water'},\n",
       "  {'name': 'Mucous Cloud',\n",
       "   'text': 'While underwater, the aboleth is surrounded by transformative mucus. A creature that touches the aboleth or that hits it with a melee attack while within 5 ft. of it must make a DC 14 Constitution saving throw. On a failure, the creature is diseased for 1d4 hours. The diseased creature can breathe only underwater.'},\n",
       "  {'name': 'Probing Telepathy',\n",
       "   'text': \"If a creature communicates telepathically with the aboleth, the aboleth learns the creature's greatest desires if the aboleth can see the creature.\"}],\n",
       " 'action': [{'name': 'Multiattack',\n",
       "   'text': 'The aboleth makes three tentacle attacks.'},\n",
       "  {'name': 'Tentacle',\n",
       "   'text': \"Melee Weapon Attack: +9 to hit, reach 10 ft., one target. Hit: 12 (2d6+5) bludgeoning damage. If the target is a creature, it must succeed on a DC 14 Constitution saving throw or become diseased. The disease has no effect for 1 minute and can be removed by any magic that cures disease. After 1 minute, the diseased creature's skin becomes translucent and slimy, the creature can't regain hit points unless it is underwater, and the disease can be removed only by heal or another disease-curing spell of 6th level or higher. When the creature is outside a body of water, it takes 6 (1d12) acid damage every 10 minutes unless moisture is applied to the skin before 10 minutes have passed.\",\n",
       "   'attack': 'Tentacle|9|2d6+5'},\n",
       "  {'name': 'Tail',\n",
       "   'text': 'Melee Weapon Attack: +9 to hit, reach 10 ft. one target. Hit: 15 (3d6+5) bludgeoning damage.',\n",
       "   'attack': 'Tail|9|3d6+5'},\n",
       "  {'name': 'Enslave (3/day)',\n",
       "   'text': [\"The aboleth targets one creature it can see within 30 ft. of it. The target must succeed on a DC 14 Wisdom saving throw or be magically charmed by the aboleth until the aboleth dies or until it is on a different plane of existence from the target. The charmed target is under the aboleth's control and can't take reactions, and the aboleth and the target can communicate telepathically with each other over any distance.\",\n",
       "    'Whenever the charmed target takes damage, the target can repeat the saving throw. On a success, the effect ends. No more than once every 24 hours, the target can also repeat the saving throw when it is at least 1 mile away from the aboleth.']}],\n",
       " 'legendary': [{'name': 'Legendary Actions (3/Turn)',\n",
       "   'text': \"The aboleth can take 3 legendary actions, choosing from the options below. Only one legendary action option can be used at a time, and only at the end of another creature's turn. The aboleth regains spent legendary actions at the start of its turn.\"},\n",
       "  {'name': 'Detect', 'text': 'The aboleth makes a Wisdom (Perception) check.'},\n",
       "  {'name': 'Tail Swipe', 'text': 'The aboleth makes one tail attack.'},\n",
       "  {'name': 'Psychic Drain (Costs 2 Actions)',\n",
       "   'text': 'One creature charmed by the aboleth takes 10 (3d6) psychic damage, and the aboleth regains hit points equal to the damage the creature takes.'}],\n",
       " 'spells': None,\n",
       " 'slots': None,\n",
       " 'environment': 'underdark'}"
      ]
     },
     "execution_count": 10,
     "metadata": {},
     "output_type": "execute_result"
    }
   ],
   "source": [
    "aboleth"
   ]
  },
  {
   "cell_type": "markdown",
   "id": "b04a962d-f15a-410f-9244-aceaea48be2d",
   "metadata": {},
   "source": [
    "# Convert Aboleth"
   ]
  },
  {
   "cell_type": "code",
   "execution_count": 11,
   "id": "f6c9a071-62fd-47d3-b262-70c1cb72c506",
   "metadata": {},
   "outputs": [],
   "source": [
    "aboleth['size'] = Size[aboleth['size']].value"
   ]
  },
  {
   "cell_type": "code",
   "execution_count": 12,
   "id": "aa09cb72-8022-4543-8d8c-ebd9c0be2fe2",
   "metadata": {},
   "outputs": [],
   "source": [
    "hp_and_hit_dice = aboleth['hp'].split(' ')\n",
    "aboleth['hp'] = hp_and_hit_dice[0]\n",
    "aboleth['hit_dice'] = \" \".join(hp_and_hit_dice[1:])"
   ]
  },
  {
   "cell_type": "code",
   "execution_count": 13,
   "id": "0e08c741-e915-4137-b2b9-a766c86b740a",
   "metadata": {},
   "outputs": [],
   "source": [
    "aboleth[\"stats\"] = [\n",
    "    aboleth[\"str\"],\n",
    "    aboleth[\"dex\"],\n",
    "    aboleth[\"con\"],\n",
    "    aboleth[\"int\"],\n",
    "    aboleth[\"wis\"],\n",
    "    aboleth[\"cha\"],\n",
    "]\n",
    "_ = (\n",
    "    aboleth.pop(\"str\"),\n",
    "    aboleth.pop(\"dex\"),\n",
    "    aboleth.pop(\"con\"),\n",
    "    aboleth.pop(\"int\"),\n",
    "    aboleth.pop(\"wis\"),\n",
    "    aboleth.pop(\"cha\"),\n",
    ")"
   ]
  },
  {
   "cell_type": "code",
   "execution_count": 14,
   "id": "daadfa3b-db43-4c0b-8582-e23cafdfbf07",
   "metadata": {},
   "outputs": [
    {
     "name": "stdout",
     "output_type": "stream",
     "text": [
      "consitution 6\n",
      "intelligence 8\n",
      "wisdom 6\n"
     ]
    },
    {
     "data": {
      "text/plain": [
       "'Con +6, Int +8, Wis +6'"
      ]
     },
     "execution_count": 14,
     "metadata": {},
     "output_type": "execute_result"
    }
   ],
   "source": [
    "saves = aboleth['save'].split(\",\")\n",
    "new_saves = []\n",
    "for save in saves:\n",
    "    save = save.lstrip()\n",
    "    stat, value = save.split(\" \")\n",
    "    value = int(value.replace('+', \"\"))\n",
    "    stat = Stat[stat].value\n",
    "    print(stat, value)\n",
    "    new_saves.append({ stat: value})\n",
    "new_saves\n",
    "aboleth['saves'] = new_saves\n",
    "aboleth.pop('save')"
   ]
  },
  {
   "cell_type": "code",
   "execution_count": 15,
   "id": "ee7650fa-f8c5-483e-9367-b9df832521aa",
   "metadata": {},
   "outputs": [
    {
     "name": "stdout",
     "output_type": "stream",
     "text": [
      "history 12\n",
      "perception 10\n"
     ]
    },
    {
     "data": {
      "text/plain": [
       "'History +12, Perception +10'"
      ]
     },
     "execution_count": 15,
     "metadata": {},
     "output_type": "execute_result"
    }
   ],
   "source": [
    "skillsaves = aboleth['skill'].split(\",\")\n",
    "skillsaves\n",
    "new_skillsaves = []\n",
    "for save in skillsaves:\n",
    "    save = save.lstrip()\n",
    "    stat, value = save.split(\" \")\n",
    "    value = int(value.replace('+', \"\"))\n",
    "    stat = stat.lower()\n",
    "    print(stat, value)\n",
    "    new_skillsaves.append({ stat: value})\n",
    "new_skillsaves\n",
    "aboleth['skillsaves'] = new_skillsaves\n",
    "aboleth.pop('skill')"
   ]
  },
  {
   "cell_type": "code",
   "execution_count": 16,
   "id": "e28bdb97-e7f4-4de9-933d-b5915e38844a",
   "metadata": {},
   "outputs": [],
   "source": [
    "aboleth['damage_resistances'] = aboleth['resist'] or \"\"\n",
    "aboleth.pop('resist')"
   ]
  },
  {
   "cell_type": "code",
   "execution_count": 17,
   "id": "2f582300-e129-46de-a5b1-5c89ce613108",
   "metadata": {},
   "outputs": [],
   "source": [
    "aboleth['damage_vulnerabilities'] = aboleth['vulnerable'] or \"\"\n",
    "aboleth.pop('vulnerable')"
   ]
  },
  {
   "cell_type": "code",
   "execution_count": 18,
   "id": "10eef8aa-abb9-4e98-9626-6ee40c14ed9a",
   "metadata": {},
   "outputs": [],
   "source": [
    "aboleth['damage_immunities'] = aboleth['immune'] or \"\"\n",
    "aboleth.pop('immune')"
   ]
  },
  {
   "cell_type": "code",
   "execution_count": 19,
   "id": "b9e1c420-8dca-4029-bcf3-91ef046b1250",
   "metadata": {},
   "outputs": [],
   "source": [
    "aboleth['condition_immunities'] = aboleth['conditionImmune'] or \"\"\n",
    "aboleth.pop('conditionImmune')"
   ]
  },
  {
   "cell_type": "code",
   "execution_count": 20,
   "id": "33006f14-eebb-4f3d-aa9d-ef88f51e4722",
   "metadata": {},
   "outputs": [
    {
     "data": {
      "text/plain": [
       "'20'"
      ]
     },
     "execution_count": 20,
     "metadata": {},
     "output_type": "execute_result"
    }
   ],
   "source": [
    "aboleth['senses'] += \", passive Perception \" + aboleth['passive']\n",
    "aboleth.pop('passive')"
   ]
  },
  {
   "cell_type": "code",
   "execution_count": 21,
   "id": "2aebc0b2-7c6a-4c59-b520-98f68c82ca90",
   "metadata": {},
   "outputs": [],
   "source": [
    "aboleth['bestiary'] = True"
   ]
  },
  {
   "cell_type": "code",
   "execution_count": 22,
   "id": "5a954c68-64b5-4e0c-80ab-b02c05ec0a3a",
   "metadata": {},
   "outputs": [],
   "source": [
    "sourceTrait = None\n",
    "for trait in aboleth['trait']:\n",
    "    if 'Source' in trait['name']:\n",
    "        sourceTrait = trait\n",
    "    elif trait.get('text') is not None:\n",
    "        trait['desc'] = trait.pop('text')\n",
    "\n",
    "aboleth['trait'].pop(aboleth['trait'].index(sourceTrait))\n",
    "\n",
    "if sourceTrait:\n",
    "    book = sourceTrait['text'].split(\" p.\")[0]\n",
    "    aboleth['source'] = book\n",
    "else:\n",
    "    aboleth['source'] = \"Not Found\"\n",
    "\n",
    "aboleth['traits'] = aboleth.pop('trait')"
   ]
  },
  {
   "cell_type": "code",
   "execution_count": 23,
   "id": "a93ad998-58b4-49a7-b761-960594714d2d",
   "metadata": {},
   "outputs": [],
   "source": [
    "aboleth['actions'] = aboleth.pop('action')\n",
    "\n",
    "for action in aboleth['actions']:\n",
    "    text = action.get('text')\n",
    "    if text and action.get('desc') is None:\n",
    "        if type(text) == list:\n",
    "            text = '\\n'.join(text)\n",
    "            action['text'] = text\n",
    "        action['desc'] = action.pop('text')\n",
    "    if action.get('attack') is not None:\n",
    "        attack = action.pop('attack')\n",
    "        _, attack_bonus, damage = attack.split('|')\n",
    "        damages = damage.split('+')\n",
    "        damage_dice_list = [damage_instance for damage_instance in damages if 'd' in damage_instance]\n",
    "        damage_bonus_list = [damage_instance for damage_instance in damages if 'd' not in damage_instance]\n",
    "        damage_dice = \"\".join(damage_dice_list)\n",
    "        damage_bonus = damage_bonus_list[0]\n",
    "        action['attack_bonus'] = attack_bonus\n",
    "        action['damage_dice'] = damage_dice\n",
    "        action['damage_bonus'] = damage_bonus"
   ]
  },
  {
   "cell_type": "code",
   "execution_count": 24,
   "id": "2ddba4d3-ec6f-4621-a8c7-21420a1131b4",
   "metadata": {},
   "outputs": [],
   "source": [
    "aboleth['legendary_actions'] = aboleth.pop('legendary')\n",
    "\n",
    "for legendary in aboleth['legendary_actions']:\n",
    "    text = legendary.get('text')\n",
    "    if text and legendary.get('desc') is None:\n",
    "        if type(text) == list:\n",
    "            text = '\\n'.join(text)\n",
    "            legendary['text'] = text\n",
    "        legendary['desc'] = legendary.pop('text')"
   ]
  },
  {
   "cell_type": "code",
   "execution_count": 25,
   "id": "00cc4168-d3dc-4d93-a763-d6043fb3fc7d",
   "metadata": {},
   "outputs": [
    {
     "data": {
      "text/plain": [
       "'underdark'"
      ]
     },
     "execution_count": 25,
     "metadata": {},
     "output_type": "execute_result"
    }
   ],
   "source": [
    "aboleth.pop('spells')\n",
    "aboleth.pop('slots')\n",
    "aboleth.pop('environment')"
   ]
  },
  {
   "cell_type": "code",
   "execution_count": 26,
   "id": "0675389e-dff8-4324-8191-36186943dfbd",
   "metadata": {},
   "outputs": [
    {
     "data": {
      "text/plain": [
       "{'name': 'Aboleth',\n",
       " 'size': 'Large',\n",
       " 'type': 'aberration',\n",
       " 'alignment': 'lawful evil',\n",
       " 'ac': '17 (natural armor)',\n",
       " 'hp': '135',\n",
       " 'speed': '10 ft., swim 40 ft.',\n",
       " 'senses': 'darkvision 120 ft., passive Perception 20',\n",
       " 'languages': 'Deep Speech, telepathy 120 ft.',\n",
       " 'cr': '10',\n",
       " 'hit_dice': '(18d10+36)',\n",
       " 'stats': ['21', '9', '15', '18', '15', '18'],\n",
       " 'saves': [{'consitution': 6}, {'intelligence': 8}, {'wisdom': 6}],\n",
       " 'skillsaves': [{'history': 12}, {'perception': 10}],\n",
       " 'damage_resistances': '',\n",
       " 'damage_vulnerabilities': '',\n",
       " 'damage_immunities': '',\n",
       " 'condition_immunities': '',\n",
       " 'bestiary': True,\n",
       " 'source': 'Monster Manual',\n",
       " 'traits': [{'name': 'Amphibious',\n",
       "   'desc': 'The aboleth can breathe air and water'},\n",
       "  {'name': 'Mucous Cloud',\n",
       "   'desc': 'While underwater, the aboleth is surrounded by transformative mucus. A creature that touches the aboleth or that hits it with a melee attack while within 5 ft. of it must make a DC 14 Constitution saving throw. On a failure, the creature is diseased for 1d4 hours. The diseased creature can breathe only underwater.'},\n",
       "  {'name': 'Probing Telepathy',\n",
       "   'desc': \"If a creature communicates telepathically with the aboleth, the aboleth learns the creature's greatest desires if the aboleth can see the creature.\"}],\n",
       " 'actions': [{'name': 'Multiattack',\n",
       "   'desc': 'The aboleth makes three tentacle attacks.'},\n",
       "  {'name': 'Tentacle',\n",
       "   'desc': \"Melee Weapon Attack: +9 to hit, reach 10 ft., one target. Hit: 12 (2d6+5) bludgeoning damage. If the target is a creature, it must succeed on a DC 14 Constitution saving throw or become diseased. The disease has no effect for 1 minute and can be removed by any magic that cures disease. After 1 minute, the diseased creature's skin becomes translucent and slimy, the creature can't regain hit points unless it is underwater, and the disease can be removed only by heal or another disease-curing spell of 6th level or higher. When the creature is outside a body of water, it takes 6 (1d12) acid damage every 10 minutes unless moisture is applied to the skin before 10 minutes have passed.\",\n",
       "   'attack_bonus': '9',\n",
       "   'damage_dice': '2d6',\n",
       "   'damage_bonus': '5'},\n",
       "  {'name': 'Tail',\n",
       "   'desc': 'Melee Weapon Attack: +9 to hit, reach 10 ft. one target. Hit: 15 (3d6+5) bludgeoning damage.',\n",
       "   'attack_bonus': '9',\n",
       "   'damage_dice': '3d6',\n",
       "   'damage_bonus': '5'},\n",
       "  {'name': 'Enslave (3/day)',\n",
       "   'desc': \"The aboleth targets one creature it can see within 30 ft. of it. The target must succeed on a DC 14 Wisdom saving throw or be magically charmed by the aboleth until the aboleth dies or until it is on a different plane of existence from the target. The charmed target is under the aboleth's control and can't take reactions, and the aboleth and the target can communicate telepathically with each other over any distance.\\nWhenever the charmed target takes damage, the target can repeat the saving throw. On a success, the effect ends. No more than once every 24 hours, the target can also repeat the saving throw when it is at least 1 mile away from the aboleth.\"}],\n",
       " 'legendary_actions': [{'name': 'Legendary Actions (3/Turn)',\n",
       "   'desc': \"The aboleth can take 3 legendary actions, choosing from the options below. Only one legendary action option can be used at a time, and only at the end of another creature's turn. The aboleth regains spent legendary actions at the start of its turn.\"},\n",
       "  {'name': 'Detect', 'desc': 'The aboleth makes a Wisdom (Perception) check.'},\n",
       "  {'name': 'Tail Swipe', 'desc': 'The aboleth makes one tail attack.'},\n",
       "  {'name': 'Psychic Drain (Costs 2 Actions)',\n",
       "   'desc': 'One creature charmed by the aboleth takes 10 (3d6) psychic damage, and the aboleth regains hit points equal to the damage the creature takes.'}]}"
      ]
     },
     "execution_count": 26,
     "metadata": {},
     "output_type": "execute_result"
    }
   ],
   "source": [
    "aboleth"
   ]
  },
  {
   "cell_type": "code",
   "execution_count": 27,
   "id": "5bf969b2-0beb-439a-aea2-2e60cc0dee58",
   "metadata": {},
   "outputs": [],
   "source": [
    "json.dump(aboleth, fp=open('aboleth_transformed.json', 'w'))"
   ]
  },
  {
   "cell_type": "code",
   "execution_count": null,
   "id": "792dc89b-bb89-4502-bede-78f19574cab4",
   "metadata": {},
   "outputs": [],
   "source": []
  }
 ],
 "metadata": {
  "kernelspec": {
   "display_name": "Python 3 (ipykernel)",
   "language": "python",
   "name": "python3"
  },
  "language_info": {
   "codemirror_mode": {
    "name": "ipython",
    "version": 3
   },
   "file_extension": ".py",
   "mimetype": "text/x-python",
   "name": "python",
   "nbconvert_exporter": "python",
   "pygments_lexer": "ipython3",
   "version": "3.11.4"
  }
 },
 "nbformat": 4,
 "nbformat_minor": 5
}
